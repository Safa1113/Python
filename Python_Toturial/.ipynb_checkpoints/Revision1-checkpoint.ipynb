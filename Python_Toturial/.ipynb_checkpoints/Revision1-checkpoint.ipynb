{
 "cells": [
  {
   "cell_type": "markdown",
   "metadata": {},
   "source": [
    "# Revision"
   ]
  },
  {
   "cell_type": "code",
   "execution_count": 80,
   "metadata": {},
   "outputs": [],
   "source": [
    "#from random import randrange\n",
    "#from random import shuffle\n",
    "import random "
   ]
  },
  {
   "cell_type": "code",
   "execution_count": 184,
   "metadata": {},
   "outputs": [],
   "source": [
    "class Card:\n",
    "    def __init__(self, faceNum, suitNum):\n",
    "        self.faceNum = faceNum if faceNum < 5 and faceNum > 0 else 1\n",
    "        self.suitNum = suitNum if suitNum < 14 and suitNum > 0 else 1\n",
    "        self.nameFace = ['Hearts','Diamonds','Spades','Clubs']\n",
    "        self.nameSuit = ['Ace','2','3','4','5','6','7','8','9','10','Jack','Queen','King']\n",
    "        \n",
    " \n",
    "    def print(self):\n",
    "        print (\"%s of %s\" % (self.nameFace[self.faceNum-1], self.nameSuit[self.suitNum-1]))\n",
    "\n",
    "    def getCard(self):\n",
    "        return self.nameFace[self.faceNum-1], self.nameSuit[self.suitNum-1]\n",
    "    \n",
    "    def getNameSuit(self):\n",
    "        return self.nameSuit[self.suitNum-1] if self.suitNum-1 != 0 else 1\n",
    "\n",
    "    def collectable(self, groupOfcards):\n",
    "        if (groupOfcards.getLen() == 0):\n",
    "            collectable = False\n",
    "            \n",
    "        elif (self.getNameSuit() == \"Jack\"):\n",
    "            collectable = True\n",
    "            for i in range(groupOfcards.getLen()):\n",
    "                if (groupOfcards.cards[i].getNameSuit() != \"Jack\"):\n",
    "                    collectable = False\n",
    "        elif (self.getNameSuit() == \"Queen\"):\n",
    "            collectable = True\n",
    "            for i in range(groupOfcards.getLen()):\n",
    "                if (groupOfcards.cards[i].getNameSuit() != \"Queen\"):\n",
    "                    collectable = False \n",
    "        elif (self.getNameSuit() == \"King\"):\n",
    "            collectable = True\n",
    "            for i in range(groupOfcards.getLen()):\n",
    "                if (groupOfcards.cards[i].getNameSuit() != \"King\"):\n",
    "                    collectable = False\n",
    "        else:\n",
    "            cardNum = int(self.getNameSuit())\n",
    "            collectable = True\n",
    "            for i in range(groupOfcards.getLen()):\n",
    "                if (groupOfcards.cards[i].getNameSuit() == \"Jack\"):\n",
    "                    collectable = False\n",
    "                    break\n",
    "                if (groupOfcards.cards[i].getNameSuit() == \"Queen\"):\n",
    "                    collectable = False\n",
    "                    break\n",
    "                if (groupOfcards.cards[i].getNameSuit() == \"King\"):\n",
    "                    collectable = False\n",
    "                    break\n",
    "                if (int(groupOfcards.cards[i].getNameSuit()) != cardNum):\n",
    "                        collectable = False\n",
    "            \n",
    "            sum = 0\n",
    "            for i in range(groupOfcards.getLen()):\n",
    "                if (groupOfcards.cards[i].getNameSuit() == \"Jack\"):\n",
    "                    collectable = False\n",
    "                    break\n",
    "                if (groupOfcards.cards[i].getNameSuit() == \"Queen\"):\n",
    "                    collectable = False\n",
    "                    break\n",
    "                if (groupOfcards.cards[i].getNameSuit() == \"King\"):\n",
    "                    collectable = False\n",
    "                    break\n",
    "                sum += int(groupOfcards.cards[i].getNameSuit())\n",
    "                if (sum == cardNum):\n",
    "                    collectable = True\n",
    "                    \n",
    "        return collectable"
   ]
  },
  {
   "cell_type": "code",
   "execution_count": 185,
   "metadata": {},
   "outputs": [],
   "source": [
    "c1 = Card (4,10)\n",
    "c2 = Card (100,11)"
   ]
  },
  {
   "cell_type": "code",
   "execution_count": 186,
   "metadata": {},
   "outputs": [
    {
     "name": "stdout",
     "output_type": "stream",
     "text": [
      "Clubs of 10\n",
      "Hearts of Jack\n"
     ]
    }
   ],
   "source": [
    "c1.print()\n",
    "c2.print()"
   ]
  },
  {
   "cell_type": "code",
   "execution_count": 187,
   "metadata": {},
   "outputs": [
    {
     "name": "stdout",
     "output_type": "stream",
     "text": [
      "4\n",
      "10\n"
     ]
    },
    {
     "data": {
      "text/plain": [
       "('Clubs', '10')"
      ]
     },
     "execution_count": 187,
     "metadata": {},
     "output_type": "execute_result"
    }
   ],
   "source": [
    "print(c1.faceNum)\n",
    "print(c1.suitNum)\n",
    "c1.getCard()\n",
    "c1.getCard()"
   ]
  },
  {
   "cell_type": "code",
   "execution_count": 188,
   "metadata": {},
   "outputs": [
    {
     "name": "stdout",
     "output_type": "stream",
     "text": [
      "True\n"
     ]
    }
   ],
   "source": [
    "print(c1.collectable(groupOfcards([Card (2,1),Card (1,5),Card (2,4)])))"
   ]
  },
  {
   "cell_type": "code",
   "execution_count": 110,
   "metadata": {},
   "outputs": [],
   "source": [
    "class groupOfcards:\n",
    "    def __init__(self, listOfCards):\n",
    "        self.cards = listOfCards    \n",
    "    \n",
    "    def shuffle(self):\n",
    "        random.shuffle(self.cards)\n",
    "        \n",
    "    def print(self):\n",
    "        for card in self.cards:\n",
    "            card.print()\n",
    "            \n",
    "    def pull(self, indexes):\n",
    "        indexes.sort()\n",
    "        for i in range(len(indexes)):\n",
    "            #indexes = [3,5,1]\n",
    "            #cards = Diamonds of Ace, Spades of 3, Hearts of 3, Diamonds of 3, Hearts of King, Hearts of 4\n",
    "            #after sort indexes = [1,3,5]\n",
    "            #after pop(indexes[i=0]) cards = the same except Diamonds of Ace bc indexes[0] = 1\n",
    "            #we want to pop out the card of index 3 now \n",
    "            #but pop(indexes[i=1]), same as pop(3) ,will result delete Diamonds of 3\n",
    "            #cards = Spades of 3, Hearts of 3, Hearts of King, Hearts of 4\n",
    "            #instead of Hearts of 3 or having cards = Spades of 3, Diamonds of 3, Hearts of King, Hearts of 4\n",
    "            #so we need to pop out (indexes[1]-1-1) that is pop(indexes[i]-i-1)\n",
    "            self.cards.pop(indexes[i]-i-1)\n",
    "        \n",
    "    def addCards(self, goc): \n",
    "        if (len(goc.cards) != 0):\n",
    "            for i in range(len(goc.cards)):\n",
    "                self.cards.append(goc.cards[i])\n",
    "\n",
    "             \n",
    "    def getLen(self):\n",
    "        return len(self.cards)\n",
    "        \n",
    "    def getCardsByIndexs(self, indexes):\n",
    "        lis = []\n",
    "        indexes.sort()\n",
    "        for i in range(len(indexes)):\n",
    "            lis.append(self.cards[indexes[i]-1])\n",
    "        return groupOfcards(lis)\n",
    "    \n",
    "    def indexExist (self,lis):\n",
    "        exist = True\n",
    "        for i in range(len(lis)):\n",
    "            #indexes from the user perspective starts from 1\n",
    "            if (lis[i]-1 > len(self.cards)):\n",
    "                exist = False\n",
    "        if (len(lis) == 0):\n",
    "            exist = False\n",
    "        return exist\n",
    "    \n",
    "    def getRondom(self):\n",
    "        indexes = []\n",
    "        NumberOfRandomCards = randrange(self.getLen())+1\n",
    "        for i in range(NumberOfRandomCards):\n",
    "            indexes.append(randrange(self.getLen()))\n",
    "\n",
    "        return self.getCardsByIndexs(indexes)"
   ]
  },
  {
   "cell_type": "code",
   "execution_count": 111,
   "metadata": {},
   "outputs": [],
   "source": [
    "goc = groupOfcards([Card (2,1),Card (1,13),Card (1,3),Card (3,3),Card (2,3),Card (10,4),])"
   ]
  },
  {
   "cell_type": "code",
   "execution_count": 112,
   "metadata": {},
   "outputs": [
    {
     "name": "stdout",
     "output_type": "stream",
     "text": [
      "Diamonds of Ace\n",
      "Hearts of King\n",
      "Hearts of 3\n",
      "Spades of 3\n",
      "Diamonds of 3\n",
      "Hearts of 4\n"
     ]
    }
   ],
   "source": [
    "goc.print()"
   ]
  },
  {
   "cell_type": "code",
   "execution_count": 113,
   "metadata": {},
   "outputs": [
    {
     "name": "stdout",
     "output_type": "stream",
     "text": [
      "Hearts of King\n",
      "Diamonds of 3\n",
      "Hearts of 4\n",
      "Hearts of 3\n",
      "Diamonds of Ace\n",
      "Spades of 3\n"
     ]
    }
   ],
   "source": [
    "goc.shuffle()\n",
    "goc.print()"
   ]
  },
  {
   "cell_type": "code",
   "execution_count": 114,
   "metadata": {},
   "outputs": [
    {
     "name": "stdout",
     "output_type": "stream",
     "text": [
      "Diamonds of 3\n",
      "Hearts of 3\n",
      "Spades of 3\n"
     ]
    }
   ],
   "source": [
    "indexes = [3,5,1]\n",
    "goc.pull(indexes)\n",
    "goc.print()"
   ]
  },
  {
   "cell_type": "code",
   "execution_count": 115,
   "metadata": {},
   "outputs": [
    {
     "name": "stdout",
     "output_type": "stream",
     "text": [
      "Diamonds of 3\n",
      "Hearts of 3\n",
      "Spades of 3\n",
      "Hearts of Ace\n",
      "Clubs of 4\n",
      "Diamonds of 2\n"
     ]
    }
   ],
   "source": [
    "g1 = groupOfcards([Card (1,1),Card (4,4),Card (2,2)])\n",
    "goc.addCards(g1)\n",
    "goc.print()"
   ]
  },
  {
   "cell_type": "code",
   "execution_count": 116,
   "metadata": {},
   "outputs": [
    {
     "data": {
      "text/plain": [
       "6"
      ]
     },
     "execution_count": 116,
     "metadata": {},
     "output_type": "execute_result"
    }
   ],
   "source": [
    "goc.getLen()"
   ]
  },
  {
   "cell_type": "code",
   "execution_count": 117,
   "metadata": {},
   "outputs": [
    {
     "name": "stdout",
     "output_type": "stream",
     "text": [
      "Diamonds of 3\n",
      "Diamonds of 2\n",
      "-------------------\n",
      "Diamonds of 3\n",
      "Hearts of 3\n",
      "Spades of 3\n",
      "Hearts of Ace\n",
      "Clubs of 4\n",
      "Diamonds of 2\n"
     ]
    }
   ],
   "source": [
    "g2 = goc.getCardsByIndexs([1,6])\n",
    "g2.print()\n",
    "print(\"-------------------\")\n",
    "goc.print()"
   ]
  },
  {
   "cell_type": "code",
   "execution_count": 118,
   "metadata": {},
   "outputs": [
    {
     "name": "stdout",
     "output_type": "stream",
     "text": [
      "True\n",
      "False\n"
     ]
    }
   ],
   "source": [
    "print(goc.indexExist([1,2,3,4]))\n",
    "print(g2.indexExist([2,5,1]))"
   ]
  },
  {
   "cell_type": "code",
   "execution_count": 124,
   "metadata": {},
   "outputs": [
    {
     "name": "stdout",
     "output_type": "stream",
     "text": [
      "Diamonds of 3\n",
      "Clubs of 4\n"
     ]
    }
   ],
   "source": [
    "goc.getRondom().print()"
   ]
  },
  {
   "cell_type": "code",
   "execution_count": 72,
   "metadata": {},
   "outputs": [],
   "source": [
    "class Deck:\n",
    "    def __init__(self):\n",
    "        self.deck = self.createDeck()\n",
    "        \n",
    "    def createDeck(self):\n",
    "        deck = []\n",
    "        for suitNum in range(1,14):\n",
    "            for faceNum in range(1,5):\n",
    "                #print(faceNum,suitNum)\n",
    "                deck.append(Card(faceNum, suitNum))\n",
    "        return deck        \n",
    "    \n",
    "    def shuffle(self):\n",
    "        random.shuffle(self.deck)\n",
    "        \n",
    "    def print(self):\n",
    "        for card in self.deck:\n",
    "            card.print()\n",
    "            \n",
    "    #Returns object goc\n",
    "    def pull(self, n):\n",
    "        \n",
    "        pullList = []\n",
    "        for i in range(n):\n",
    "            if (len(self.deck) != 0):\n",
    "                pullList.append(self.deck.pop())\n",
    "        goc = groupOfcards(pullList)\n",
    "        return goc"
   ]
  },
  {
   "cell_type": "code",
   "execution_count": 73,
   "metadata": {},
   "outputs": [],
   "source": [
    "d = Deck()"
   ]
  },
  {
   "cell_type": "code",
   "execution_count": 74,
   "metadata": {},
   "outputs": [
    {
     "name": "stdout",
     "output_type": "stream",
     "text": [
      "52\n"
     ]
    }
   ],
   "source": [
    "print(len(d.deck))"
   ]
  },
  {
   "cell_type": "code",
   "execution_count": 75,
   "metadata": {},
   "outputs": [
    {
     "name": "stdout",
     "output_type": "stream",
     "text": [
      "Hearts of Ace\n",
      "Diamonds of Ace\n",
      "Spades of Ace\n",
      "Clubs of Ace\n",
      "Hearts of 2\n",
      "Diamonds of 2\n",
      "Spades of 2\n",
      "Clubs of 2\n",
      "Hearts of 3\n",
      "Diamonds of 3\n",
      "Spades of 3\n",
      "Clubs of 3\n",
      "Hearts of 4\n",
      "Diamonds of 4\n",
      "Spades of 4\n",
      "Clubs of 4\n",
      "Hearts of 5\n",
      "Diamonds of 5\n",
      "Spades of 5\n",
      "Clubs of 5\n",
      "Hearts of 6\n",
      "Diamonds of 6\n",
      "Spades of 6\n",
      "Clubs of 6\n",
      "Hearts of 7\n",
      "Diamonds of 7\n",
      "Spades of 7\n",
      "Clubs of 7\n",
      "Hearts of 8\n",
      "Diamonds of 8\n",
      "Spades of 8\n",
      "Clubs of 8\n",
      "Hearts of 9\n",
      "Diamonds of 9\n",
      "Spades of 9\n",
      "Clubs of 9\n",
      "Hearts of 10\n",
      "Diamonds of 10\n",
      "Spades of 10\n",
      "Clubs of 10\n",
      "Hearts of Jack\n",
      "Diamonds of Jack\n",
      "Spades of Jack\n",
      "Clubs of Jack\n",
      "Hearts of Queen\n",
      "Diamonds of Queen\n",
      "Spades of Queen\n",
      "Clubs of Queen\n",
      "Hearts of King\n",
      "Diamonds of King\n",
      "Spades of King\n",
      "Clubs of King\n"
     ]
    }
   ],
   "source": [
    "d.print()"
   ]
  },
  {
   "cell_type": "code",
   "execution_count": 81,
   "metadata": {},
   "outputs": [],
   "source": [
    "d.shuffle()"
   ]
  },
  {
   "cell_type": "code",
   "execution_count": 82,
   "metadata": {},
   "outputs": [
    {
     "name": "stdout",
     "output_type": "stream",
     "text": [
      "Diamonds of 6\n",
      "Clubs of 6\n",
      "Hearts of 2\n",
      "Diamonds of 8\n",
      "Diamonds of Jack\n",
      "Diamonds of 4\n",
      "Diamonds of 2\n",
      "Hearts of 5\n",
      "Hearts of 4\n",
      "Clubs of 8\n",
      "Spades of 8\n",
      "Diamonds of 7\n",
      "Diamonds of King\n",
      "Hearts of 10\n",
      "Spades of 10\n",
      "Clubs of 4\n",
      "Clubs of 5\n",
      "Spades of Jack\n",
      "Clubs of 10\n",
      "Hearts of 7\n",
      "Spades of 2\n",
      "Clubs of Jack\n",
      "Hearts of Ace\n",
      "Spades of 9\n",
      "Clubs of Ace\n",
      "Diamonds of Ace\n",
      "Spades of 4\n",
      "Hearts of 8\n",
      "Clubs of 2\n",
      "Diamonds of 5\n",
      "Clubs of 3\n",
      "Diamonds of 3\n",
      "Spades of King\n",
      "Spades of 5\n",
      "Clubs of King\n",
      "Clubs of Queen\n",
      "Spades of Queen\n",
      "Spades of 6\n",
      "Spades of Ace\n",
      "Hearts of 3\n",
      "Hearts of 6\n",
      "Clubs of 7\n",
      "Diamonds of 10\n",
      "Hearts of 9\n",
      "Hearts of Queen\n",
      "Diamonds of 9\n",
      "Spades of 7\n",
      "Diamonds of Queen\n",
      "Clubs of 9\n",
      "Hearts of King\n",
      "Hearts of Jack\n",
      "Spades of 3\n"
     ]
    }
   ],
   "source": [
    "d.print()"
   ]
  },
  {
   "cell_type": "code",
   "execution_count": 125,
   "metadata": {},
   "outputs": [
    {
     "name": "stdout",
     "output_type": "stream",
     "text": [
      "Spades of 3\n",
      "Hearts of Jack\n",
      "Hearts of King\n",
      "Clubs of 9\n",
      "Diamonds of Queen\n",
      "Spades of 7\n",
      "Diamonds of 9\n",
      "Hearts of Queen\n",
      "Hearts of 9\n",
      "Diamonds of 10\n"
     ]
    }
   ],
   "source": [
    "d.pull(10).print()"
   ]
  },
  {
   "cell_type": "code",
   "execution_count": 126,
   "metadata": {},
   "outputs": [
    {
     "name": "stdout",
     "output_type": "stream",
     "text": [
      "Diamonds of 6\n",
      "Clubs of 6\n",
      "Hearts of 2\n",
      "Diamonds of 8\n",
      "Diamonds of Jack\n",
      "Diamonds of 4\n",
      "Diamonds of 2\n",
      "Hearts of 5\n",
      "Hearts of 4\n",
      "Clubs of 8\n",
      "Spades of 8\n",
      "Diamonds of 7\n",
      "Diamonds of King\n",
      "Hearts of 10\n",
      "Spades of 10\n",
      "Clubs of 4\n",
      "Clubs of 5\n",
      "Spades of Jack\n",
      "Clubs of 10\n",
      "Hearts of 7\n",
      "Spades of 2\n",
      "Clubs of Jack\n",
      "Hearts of Ace\n",
      "Spades of 9\n",
      "Clubs of Ace\n",
      "Diamonds of Ace\n",
      "Spades of 4\n",
      "Hearts of 8\n",
      "Clubs of 2\n",
      "Diamonds of 5\n",
      "Clubs of 3\n",
      "Diamonds of 3\n",
      "Spades of King\n",
      "Spades of 5\n",
      "Clubs of King\n",
      "Clubs of Queen\n",
      "Spades of Queen\n",
      "Spades of 6\n",
      "Spades of Ace\n",
      "Hearts of 3\n",
      "Hearts of 6\n",
      "Clubs of 7\n"
     ]
    }
   ],
   "source": [
    "d.print()"
   ]
  },
  {
   "cell_type": "code",
   "execution_count": null,
   "metadata": {},
   "outputs": [],
   "source": []
  }
 ],
 "metadata": {
  "kernelspec": {
   "display_name": "Python 3",
   "language": "python",
   "name": "python3"
  },
  "language_info": {
   "codemirror_mode": {
    "name": "ipython",
    "version": 3
   },
   "file_extension": ".py",
   "mimetype": "text/x-python",
   "name": "python",
   "nbconvert_exporter": "python",
   "pygments_lexer": "ipython3",
   "version": "3.7.4"
  }
 },
 "nbformat": 4,
 "nbformat_minor": 2
}
